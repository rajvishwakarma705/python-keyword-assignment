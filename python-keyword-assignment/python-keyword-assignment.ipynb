{
 "cells": [
  {
   "cell_type": "markdown",
   "metadata": {},
   "source": [
    "1. Explain the significance of Python keywords and provide examples of five keywords.\n",
    "\n",
    "Ans.- Python keywords are special words that have reserved meanings within the language. You cannot use them for variable names, function names, or anything else other than their intended purpose. They are essential for building the structure and functionality of your Python programs.\n",
    "\n",
    "Examples:-\n",
    "\n",
    "1. if:  This keyword is used for conditional statements, allowing you to execute code only if a certain condition is met.\n",
    "\n",
    "2. for:  This keyword is used for loops, enabling you to repeat a block of code a specific number of times or iterate over a sequence of items.\n",
    "\n",
    "3. def:  This keyword defines functions, which are reusable blocks of code that perform specific tasks.\n",
    "\n",
    "4. return:  This keyword is used within functions to return a value back to the calling code.\n",
    "\n",
    "5. in:  This keyword is used for membership testing, allowing you to check if an element exists within a sequence like a list or string."
   ]
  },
  {
   "cell_type": "markdown",
   "metadata": {},
   "source": [
    "2. Describe the rules for defining identifiers in Python and provide an example.\n",
    "\n",
    "Ans.- Identifiers in Python are names you give to variables, functions, classes, etc. Here's how to define them:\n",
    "\n",
    "1. Start with a letter or underscore (_). \n",
    "2. Numbers cannot be the first character.\n",
    "3. Contain letters, digits, and underscores. \n",
    "4. Case-sensitive (age vs. Age are different).\n",
    "5. Avoid reserved keywords (like if, for, def).\n",
    "\n",
    "Example: total_items = 1"
   ]
  },
  {
   "cell_type": "markdown",
   "metadata": {},
   "source": [
    "3. What are comments in Python, and why are they useful? Provide an example.\n",
    "\n",
    "Ans.- Comments in Python are lines of text ignored by the Python interpreter, acting like explanatory notes within your code. They improve code readability by clarifying its purpose and logic. This is helpful for yourself or others who need to understand the code later. For example, you can add a comment to explain what a variable stores or why a certain function is used. \n",
    "Example- #This is a comment."
   ]
  },
  {
   "cell_type": "markdown",
   "metadata": {},
   "source": [
    "4. Why is proper indentation important in Python?\n",
    "\n",
    "Ans.- In Python, unlike many other languages, indentation is crucial not just for readability but also for the code's functionality. It defines code blocks, essentially telling Python what lines of code belong together. Incorrect indentation leads to errors as Python won't understand the program's structure. So, proper indentation is essential for both clear and error-free Python code."
   ]
  },
  {
   "cell_type": "markdown",
   "metadata": {},
   "source": [
    "5. What happens if indentation is incorrect in Python?\n",
    "\n",
    "Ans.- The code will give indentation error."
   ]
  },
  {
   "cell_type": "markdown",
   "metadata": {},
   "source": [
    "6. Differentiate between expression and statement in Python with examples.\n",
    "\n",
    "Ans.- In Python:\n",
    "\n",
    "* Expressions- evaluate to a single value. They are the building blocks that create results. \n",
    "Examples:\n",
    "    * 2 + 3 \n",
    "\n",
    "* Statements- perform actions or control the flow of your program. They don't directly produce a value. \n",
    "Examples:\n",
    "    * x = 5"
   ]
  },
  {
   "cell_type": "markdown",
   "metadata": {},
   "source": []
  }
 ],
 "metadata": {
  "language_info": {
   "name": "python"
  }
 },
 "nbformat": 4,
 "nbformat_minor": 2
}
